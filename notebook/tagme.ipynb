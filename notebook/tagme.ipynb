{
 "cells": [
  {
   "cell_type": "code",
   "execution_count": 2,
   "id": "885dc05c-6616-411e-9a6f-543f304de94c",
   "metadata": {},
   "outputs": [],
   "source": [
    "import pandas as pd\n",
    "import re\n",
    "from IPython.display import display, clear_output, HTML\n",
    "%matplotlib inline"
   ]
  },
  {
   "cell_type": "code",
   "execution_count": 3,
   "id": "8dc75c19-c6f0-41ee-b546-aacdc028479c",
   "metadata": {},
   "outputs": [],
   "source": [
    "\n",
    "def load_dataset(benchmark_file_name):\n",
    "    try:\n",
    "        df = pd.read_csv(benchmark_file_name)\n",
    "        print(f'{df.shape[0]} records loaded')\n",
    "        return df.dropna(subset=['query'])\n",
    "    except Exception as ex:\n",
    "        print(f'error loading {benchmark_file_name}: {ex} ')\n",
    "        return None\n"
   ]
  },
  {
   "cell_type": "code",
   "execution_count": 4,
   "id": "59e3932f-89ac-443a-809f-8a0545102908",
   "metadata": {},
   "outputs": [],
   "source": [
    "benchmark_file_name=r'/home/yuvalso/repository/geoagent/temp.csv'"
   ]
  },
  {
   "cell_type": "code",
   "execution_count": 5,
   "id": "456b9f32-6ddf-44ba-a5d5-2a875cef15b0",
   "metadata": {},
   "outputs": [
    {
     "name": "stdout",
     "output_type": "stream",
     "text": [
      "5 records loaded\n"
     ]
    }
   ],
   "source": [
    "df = load_dataset(benchmark_file_name=benchmark_file_name)"
   ]
  },
  {
   "cell_type": "code",
   "execution_count": 6,
   "id": "583eee2f-2812-4c34-ac70-d35e19adbd26",
   "metadata": {},
   "outputs": [],
   "source": [
    "def resize_html(map_html):\n",
    "    map_html = map_html.replace(\"position:relative;width:100%;height:0;padding-bottom:100%;\",\n",
    "                                \"position:relative;width:100%;height:0;padding-bottom:60%;\", 1)\n",
    "    map_html = map_html.replace(\"height: 800.0px;\",\n",
    "                                \"height: 600.0px;\",1)\n",
    "    return map_html\n",
    " "
   ]
  },
  {
   "cell_type": "code",
   "execution_count": 7,
   "id": "44698225-a3fd-4cf3-88e1-1d4865aec072",
   "metadata": {},
   "outputs": [],
   "source": [
    "# Add a new column for labels\n",
    "df[\"Label\"] = None"
   ]
  },
  {
   "cell_type": "code",
   "execution_count": 8,
   "id": "950a371a-7172-44d6-8ec9-884fc228d561",
   "metadata": {},
   "outputs": [],
   "source": [
    "def labeling(df):\n",
    "    print('start tagging')\n",
    "    for index, row in df.iterrows():\n",
    "        clear_output(wait=True)\n",
    "        print(row['query'])\n",
    "        display(HTML(resize_html(row['map'])))\n",
    "        while True:\n",
    "            label = input(\"options: true, false, na (not applicable), sql (view the sql), exit (exit tagging) : \").strip().lower()\n",
    "            if label == 'exit':\n",
    "                clear_output(wait=True)\n",
    "                print(f'exit tagging. for saving results run save results cell')                   \n",
    "                return\n",
    "            if label == 'sql':\n",
    "                print(row['sql'])               \n",
    "            if label in [\"true\", \"false\", \"na\"]:\n",
    "                df.at[index, \"Label\"] = label\n",
    "                break\n",
    "            else:\n",
    "                print(f\"{label} Invalid input. Please enter True or False.\")\n",
    "    clear_output(wait=True)\n",
    "    print(f'end tagging. for saving results run save results cell')                   "
   ]
  },
  {
   "cell_type": "code",
   "execution_count": 9,
   "id": "17928caf-f38f-47a8-9af4-36ce3c2bfffe",
   "metadata": {},
   "outputs": [],
   "source": [
    "def save_results(df, output_file):   \n",
    "    df.to_csv(output_file, index=False)\n",
    "    print(f\"\\nLabeled CSV saved as {output_file}\")"
   ]
  },
  {
   "cell_type": "code",
   "execution_count": null,
   "id": "ffc53bc9-3a0f-4b79-a7c4-e7a157f9d0ee",
   "metadata": {},
   "outputs": [
    {
     "name": "stdout",
     "output_type": "stream",
     "text": [
      "Identify new residential areas developed in open spaces within 10 kilometers south of Aaddoussiyeh in June 2023.\n"
     ]
    },
    {
     "data": {
      "text/html": [
       "<div style=\"width:100%;\"><div style=\"position:relative;width:100%;height:0;padding-bottom:60%;\"><span style=\"color:#565656\">Make this Notebook Trusted to load map: File -> Trust Notebook</span><iframe srcdoc=\"&lt;!DOCTYPE html&gt;\n",
       "&lt;html&gt;\n",
       "&lt;head&gt;\n",
       "    \n",
       "    &lt;meta http-equiv=&quot;content-type&quot; content=&quot;text/html; charset=UTF-8&quot; /&gt;\n",
       "    \n",
       "        &lt;script&gt;\n",
       "            L_NO_TOUCH = false;\n",
       "            L_DISABLE_3D = false;\n",
       "        &lt;/script&gt;\n",
       "    \n",
       "    &lt;style&gt;html, body {width: 100%;height: 100%;margin: 0;padding: 0;}&lt;/style&gt;\n",
       "    &lt;style&gt;#map {position:absolute;top:0;bottom:0;right:0;left:0;}&lt;/style&gt;\n",
       "    &lt;script src=&quot;https://cdn.jsdelivr.net/npm/leaflet@1.9.3/dist/leaflet.js&quot;&gt;&lt;/script&gt;\n",
       "    &lt;script src=&quot;https://code.jquery.com/jquery-3.7.1.min.js&quot;&gt;&lt;/script&gt;\n",
       "    &lt;script src=&quot;https://cdn.jsdelivr.net/npm/bootstrap@5.2.2/dist/js/bootstrap.bundle.min.js&quot;&gt;&lt;/script&gt;\n",
       "    &lt;script src=&quot;https://cdnjs.cloudflare.com/ajax/libs/Leaflet.awesome-markers/2.0.2/leaflet.awesome-markers.js&quot;&gt;&lt;/script&gt;\n",
       "    &lt;link rel=&quot;stylesheet&quot; href=&quot;https://cdn.jsdelivr.net/npm/leaflet@1.9.3/dist/leaflet.css&quot;/&gt;\n",
       "    &lt;link rel=&quot;stylesheet&quot; href=&quot;https://cdn.jsdelivr.net/npm/bootstrap@5.2.2/dist/css/bootstrap.min.css&quot;/&gt;\n",
       "    &lt;link rel=&quot;stylesheet&quot; href=&quot;https://netdna.bootstrapcdn.com/bootstrap/3.0.0/css/bootstrap-glyphicons.css&quot;/&gt;\n",
       "    &lt;link rel=&quot;stylesheet&quot; href=&quot;https://cdn.jsdelivr.net/npm/@fortawesome/fontawesome-free@6.2.0/css/all.min.css&quot;/&gt;\n",
       "    &lt;link rel=&quot;stylesheet&quot; href=&quot;https://cdnjs.cloudflare.com/ajax/libs/Leaflet.awesome-markers/2.0.2/leaflet.awesome-markers.css&quot;/&gt;\n",
       "    &lt;link rel=&quot;stylesheet&quot; href=&quot;https://cdn.jsdelivr.net/gh/python-visualization/folium/folium/templates/leaflet.awesome.rotate.min.css&quot;/&gt;\n",
       "    \n",
       "            &lt;meta name=&quot;viewport&quot; content=&quot;width=device-width,\n",
       "                initial-scale=1.0, maximum-scale=1.0, user-scalable=no&quot; /&gt;\n",
       "            &lt;style&gt;\n",
       "                #map_c141ee3cc190cbe5aa31ce330adadda5 {\n",
       "                    position: relative;\n",
       "                    width: 100.0%;\n",
       "                    height: 600.0px;\n",
       "                    left: 0.0%;\n",
       "                    top: 0.0%;\n",
       "                }\n",
       "                .leaflet-container { font-size: 1rem; }\n",
       "            &lt;/style&gt;\n",
       "        \n",
       "&lt;/head&gt;\n",
       "&lt;body&gt;\n",
       "    \n",
       "    \n",
       "            &lt;div class=&quot;folium-map&quot; id=&quot;map_c141ee3cc190cbe5aa31ce330adadda5&quot; &gt;&lt;/div&gt;\n",
       "        \n",
       "&lt;/body&gt;\n",
       "&lt;script&gt;\n",
       "    \n",
       "    \n",
       "            var map_c141ee3cc190cbe5aa31ce330adadda5 = L.map(\n",
       "                &quot;map_c141ee3cc190cbe5aa31ce330adadda5&quot;,\n",
       "                {\n",
       "                    center: [33.4691968, 35.3456888],\n",
       "                    crs: L.CRS.EPSG3857,\n",
       "                    zoom: 10,\n",
       "                    zoomControl: true,\n",
       "                    preferCanvas: false,\n",
       "                }\n",
       "            );\n",
       "\n",
       "            \n",
       "\n",
       "        \n",
       "    \n",
       "            var tile_layer_2bbdaa0a478dfa1a0df9d267cabfe492 = L.tileLayer(\n",
       "                &quot;https://tile.openstreetmap.org/{z}/{x}/{y}.png&quot;,\n",
       "                {&quot;attribution&quot;: &quot;\\u0026copy; \\u003ca href=\\&quot;https://www.openstreetmap.org/copyright\\&quot;\\u003eOpenStreetMap\\u003c/a\\u003e contributors&quot;, &quot;detectRetina&quot;: false, &quot;maxNativeZoom&quot;: 19, &quot;maxZoom&quot;: 19, &quot;minZoom&quot;: 0, &quot;noWrap&quot;: false, &quot;opacity&quot;: 1, &quot;subdomains&quot;: &quot;abc&quot;, &quot;tms&quot;: false}\n",
       "            );\n",
       "        \n",
       "    \n",
       "            tile_layer_2bbdaa0a478dfa1a0df9d267cabfe492.addTo(map_c141ee3cc190cbe5aa31ce330adadda5);\n",
       "        \n",
       "    \n",
       "            var tile_layer_ce9c44939fb89a3837d4b9ac5a4bc8f1 = L.tileLayer(\n",
       "                &quot;https://mt1.google.com/vt/lyrs=m\\u0026x={x}\\u0026y={y}\\u0026z={z}&quot;,\n",
       "                {&quot;attribution&quot;: &quot;Google&quot;, &quot;detectRetina&quot;: false, &quot;maxZoom&quot;: 18, &quot;minZoom&quot;: 0, &quot;noWrap&quot;: false, &quot;opacity&quot;: 1, &quot;subdomains&quot;: &quot;abc&quot;, &quot;tms&quot;: false}\n",
       "            );\n",
       "        \n",
       "    \n",
       "            tile_layer_ce9c44939fb89a3837d4b9ac5a4bc8f1.addTo(map_c141ee3cc190cbe5aa31ce330adadda5);\n",
       "        \n",
       "    \n",
       "            var tile_layer_bfcaf8efdbbb84b5fa0bcd9a66e0c3b8 = L.tileLayer(\n",
       "                &quot;https://mt1.google.com/vt/lyrs=p\\u0026x={x}\\u0026y={y}\\u0026z={z}&quot;,\n",
       "                {&quot;attribution&quot;: &quot;Google&quot;, &quot;detectRetina&quot;: false, &quot;maxZoom&quot;: 18, &quot;minZoom&quot;: 0, &quot;noWrap&quot;: false, &quot;opacity&quot;: 1, &quot;subdomains&quot;: &quot;abc&quot;, &quot;tms&quot;: false}\n",
       "            );\n",
       "        \n",
       "    \n",
       "            var tile_layer_c8a997481d24384f2814d2035610ae14 = L.tileLayer(\n",
       "                &quot;https://mt1.google.com/vt/lyrs=y\\u0026x={x}\\u0026y={y}\\u0026z={z}&quot;,\n",
       "                {&quot;attribution&quot;: &quot;Google&quot;, &quot;detectRetina&quot;: false, &quot;maxZoom&quot;: 18, &quot;minZoom&quot;: 0, &quot;noWrap&quot;: false, &quot;opacity&quot;: 1, &quot;subdomains&quot;: &quot;abc&quot;, &quot;tms&quot;: false}\n",
       "            );\n",
       "        \n",
       "    \n",
       "        function geo_json_4af1cac5a0831f2431dfdda58346fa07_styler(feature) {\n",
       "            switch(feature.id) {\n",
       "                default:\n",
       "                    return {&quot;color&quot;: &quot;blue&quot;, &quot;fillColor&quot;: &quot;gray&quot;, &quot;fillOpacity&quot;: 0.2, &quot;weight&quot;: 2};\n",
       "            }\n",
       "        }\n",
       "\n",
       "        function geo_json_4af1cac5a0831f2431dfdda58346fa07_onEachFeature(feature, layer) {\n",
       "            layer.on({\n",
       "            });\n",
       "        };\n",
       "        var geo_json_4af1cac5a0831f2431dfdda58346fa07 = L.geoJson(null, {\n",
       "                onEachFeature: geo_json_4af1cac5a0831f2431dfdda58346fa07_onEachFeature,\n",
       "            \n",
       "                style: geo_json_4af1cac5a0831f2431dfdda58346fa07_styler,\n",
       "        });\n",
       "\n",
       "        function geo_json_4af1cac5a0831f2431dfdda58346fa07_add (data) {\n",
       "            geo_json_4af1cac5a0831f2431dfdda58346fa07\n",
       "                .addData(data);\n",
       "        }\n",
       "            geo_json_4af1cac5a0831f2431dfdda58346fa07_add({&quot;features&quot;: [{&quot;geometry&quot;: {&quot;coordinates&quot;: [35.3456888, 33.4691968], &quot;type&quot;: &quot;Point&quot;}, &quot;id&quot;: &quot;0&quot;, &quot;type&quot;: &quot;Feature&quot;}], &quot;type&quot;: &quot;FeatureCollection&quot;});\n",
       "\n",
       "        \n",
       "    \n",
       "            geo_json_4af1cac5a0831f2431dfdda58346fa07.addTo(map_c141ee3cc190cbe5aa31ce330adadda5);\n",
       "        \n",
       "    \n",
       "            var marker_a78299b26dde855856b9c4cb6b12ad8f = L.marker(\n",
       "                [33.4691968, 35.3456888],\n",
       "                {}\n",
       "            ).addTo(map_c141ee3cc190cbe5aa31ce330adadda5);\n",
       "        \n",
       "    \n",
       "            var div_icon_a57f0a95e608bd1fa52946538f05cb77 = L.divIcon({&quot;className&quot;: &quot;empty&quot;, &quot;html&quot;: &quot;\\u003cdiv style=\\&quot;font-size: 24pt; color : blue\\&quot;\\u003eaaddoussiyeh\\u003c/div\\u003e&quot;});\n",
       "            marker_a78299b26dde855856b9c4cb6b12ad8f.setIcon(div_icon_a57f0a95e608bd1fa52946538f05cb77);\n",
       "        \n",
       "    \n",
       "        var popup_e17b24237660f635418541893eaf46de = L.popup({&quot;maxWidth&quot;: &quot;100%&quot;});\n",
       "\n",
       "        \n",
       "            \n",
       "                var html_a440800af9f02d26f7c41d501ae83594 = $(`&lt;div id=&quot;html_a440800af9f02d26f7c41d501ae83594&quot; style=&quot;width: 100.0%; height: 100.0%;&quot;&gt;Polygon: aaddoussiyeh&lt;/div&gt;`)[0];\n",
       "                popup_e17b24237660f635418541893eaf46de.setContent(html_a440800af9f02d26f7c41d501ae83594);\n",
       "            \n",
       "        \n",
       "\n",
       "        marker_a78299b26dde855856b9c4cb6b12ad8f.bindPopup(popup_e17b24237660f635418541893eaf46de)\n",
       "        ;\n",
       "\n",
       "        \n",
       "    \n",
       "    \n",
       "            map_c141ee3cc190cbe5aa31ce330adadda5.fitBounds(\n",
       "                [[33.4691968, 35.3456888], [33.4691968, 35.3456888]],\n",
       "                {}\n",
       "            );\n",
       "        \n",
       "    \n",
       "            var layer_control_4980229414b72b5399ae10ecc6877996_layers = {\n",
       "                base_layers : {\n",
       "                    &quot;openstreetmap&quot; : tile_layer_2bbdaa0a478dfa1a0df9d267cabfe492,\n",
       "                },\n",
       "                overlays :  {\n",
       "                    &quot;Google Maps&quot; : tile_layer_ce9c44939fb89a3837d4b9ac5a4bc8f1,\n",
       "                    &quot;Google Terrain&quot; : tile_layer_bfcaf8efdbbb84b5fa0bcd9a66e0c3b8,\n",
       "                    &quot;Google Satellite&quot; : tile_layer_c8a997481d24384f2814d2035610ae14,\n",
       "                    &quot;macro_element_4af1cac5a0831f2431dfdda58346fa07&quot; : geo_json_4af1cac5a0831f2431dfdda58346fa07,\n",
       "                },\n",
       "            };\n",
       "            let layer_control_4980229414b72b5399ae10ecc6877996 = L.control.layers(\n",
       "                layer_control_4980229414b72b5399ae10ecc6877996_layers.base_layers,\n",
       "                layer_control_4980229414b72b5399ae10ecc6877996_layers.overlays,\n",
       "                {&quot;autoZIndex&quot;: true, &quot;collapsed&quot;: true, &quot;position&quot;: &quot;topright&quot;}\n",
       "            ).addTo(map_c141ee3cc190cbe5aa31ce330adadda5);\n",
       "\n",
       "        \n",
       "&lt;/script&gt;\n",
       "&lt;/html&gt;\" style=\"position:absolute;width:100%;height:100%;left:0;top:0;border:none !important;\" allowfullscreen webkitallowfullscreen mozallowfullscreen></iframe></div></div>"
      ],
      "text/plain": [
       "<IPython.core.display.HTML object>"
      ]
     },
     "metadata": {},
     "output_type": "display_data"
    }
   ],
   "source": [
    "labeling(df=df)"
   ]
  },
  {
   "cell_type": "code",
   "execution_count": null,
   "id": "4f0ed535-5f41-417b-8919-413202bdbfb6",
   "metadata": {},
   "outputs": [],
   "source": [
    "output_file = benchmark_file_name.replace('.csv', '_label.csv')\n",
    "save_results(df=df, output_file=output_file)"
   ]
  },
  {
   "cell_type": "code",
   "execution_count": null,
   "id": "c5b7afee-4d3f-4185-8d3f-b18eba58ca38",
   "metadata": {},
   "outputs": [],
   "source": [
    "df['Label'].value_counts()"
   ]
  }
 ],
 "metadata": {
  "kernelspec": {
   "display_name": "Python 3 (ipykernel)",
   "language": "python",
   "name": "python3"
  },
  "language_info": {
   "codemirror_mode": {
    "name": "ipython",
    "version": 3
   },
   "file_extension": ".py",
   "mimetype": "text/x-python",
   "name": "python",
   "nbconvert_exporter": "python",
   "pygments_lexer": "ipython3",
   "version": "3.10.9"
  }
 },
 "nbformat": 4,
 "nbformat_minor": 5
}

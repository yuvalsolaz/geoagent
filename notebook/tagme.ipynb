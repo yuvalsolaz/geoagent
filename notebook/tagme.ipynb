{
 "cells": [
  {
   "cell_type": "code",
   "execution_count": 1,
   "id": "885dc05c-6616-411e-9a6f-543f304de94c",
   "metadata": {},
   "outputs": [],
   "source": [
    "import pandas as pd\n",
    "import re\n",
    "from IPython.display import display, clear_output, HTML\n",
    "%matplotlib inline"
   ]
  },
  {
   "cell_type": "code",
   "execution_count": 2,
   "id": "8dc75c19-c6f0-41ee-b546-aacdc028479c",
   "metadata": {},
   "outputs": [],
   "source": [
    "\n",
    "def load_dataset(benchmark_file_name):\n",
    "    try:\n",
    "        df = pd.read_csv(benchmark_file_name)\n",
    "        print(f'{df.shape[0]} records loaded')\n",
    "        return df.dropna(subset=['query'])\n",
    "    except Exception as ex:\n",
    "        print(f'error loading {benchmark_file_name}: {ex} ')\n",
    "        return None\n"
   ]
  },
  {
   "cell_type": "code",
   "execution_count": 3,
   "id": "59e3932f-89ac-443a-809f-8a0545102908",
   "metadata": {},
   "outputs": [],
   "source": [
    "benchmark_file_name=r'/home/yuvalso/repository/geoagent/temp.csv'"
   ]
  },
  {
   "cell_type": "code",
   "execution_count": 4,
   "id": "456b9f32-6ddf-44ba-a5d5-2a875cef15b0",
   "metadata": {},
   "outputs": [
    {
     "name": "stdout",
     "output_type": "stream",
     "text": [
      "5 records loaded\n"
     ]
    }
   ],
   "source": [
    "df = load_dataset(benchmark_file_name=benchmark_file_name)"
   ]
  },
  {
   "cell_type": "code",
   "execution_count": 5,
   "id": "583eee2f-2812-4c34-ac70-d35e19adbd26",
   "metadata": {},
   "outputs": [],
   "source": [
    "def resize_html(map_html):\n",
    "    map_html = map_html.replace(\"position:relative;width:100%;height:0;padding-bottom:100%;\",\n",
    "                                \"position:relative;width:100%;height:0;padding-bottom:60%;\", 1)\n",
    "    map_html = map_html.replace(\"height: 800.0px;\",\n",
    "                                \"height: 600.0px;\",1)\n",
    "    return map_html\n",
    " "
   ]
  },
  {
   "cell_type": "code",
   "execution_count": 6,
   "id": "44698225-a3fd-4cf3-88e1-1d4865aec072",
   "metadata": {},
   "outputs": [],
   "source": [
    "# Add a new column for labels\n",
    "df[\"Label\"] = None"
   ]
  },
  {
   "cell_type": "code",
   "execution_count": 10,
   "id": "950a371a-7172-44d6-8ec9-884fc228d561",
   "metadata": {},
   "outputs": [],
   "source": [
    "def labeling(df):\n",
    "    print('start tagging')\n",
    "    for index, row in df.iterrows():\n",
    "        clear_output(wait=True)\n",
    "        print(row['query'])\n",
    "        display(HTML(resize_html(row['map'])))\n",
    "        while True:\n",
    "            label = input(\"options: true, false, na (not applicable), sql (view the sql), exit (exit tagging) : \").strip().lower()\n",
    "            if label == 'exit':\n",
    "                clear_output(wait=True)\n",
    "                print(f'exit tagging. for saving results run save results cell')                   \n",
    "                return\n",
    "            if label == 'sql':\n",
    "                print(row['sql'])               \n",
    "            if label in [\"true\", \"false\", \"na\"]:\n",
    "                df.at[index, \"Label\"] = label\n",
    "                break\n",
    "            else:\n",
    "                print(f\"{label} Invalid input. Please enter True or False.\")\n",
    "    clear_output(wait=True)\n",
    "    print(f'end tagging. for saving results run save results cell')                   "
   ]
  },
  {
   "cell_type": "code",
   "execution_count": 11,
   "id": "17928caf-f38f-47a8-9af4-36ce3c2bfffe",
   "metadata": {},
   "outputs": [],
   "source": [
    "def save_results(df, output_file):   \n",
    "    df.to_csv(output_file, index=False)\n",
    "    print(f\"\\nLabeled CSV saved as {output_file}\")"
   ]
  },
  {
   "cell_type": "code",
   "execution_count": 12,
   "id": "ffc53bc9-3a0f-4b79-a7c4-e7a157f9d0ee",
   "metadata": {},
   "outputs": [
    {
     "name": "stdout",
     "output_type": "stream",
     "text": [
      "exit tagging. for saving results run save results cell\n"
     ]
    }
   ],
   "source": [
    "labeling(df=df)"
   ]
  },
  {
   "cell_type": "code",
   "execution_count": null,
   "id": "4f0ed535-5f41-417b-8919-413202bdbfb6",
   "metadata": {},
   "outputs": [],
   "source": [
    "output_file = benchmark_file_name.replace('.csv', '_label.csv')\n",
    "save_results(df=df, output_file=output_file)"
   ]
  },
  {
   "cell_type": "code",
   "execution_count": null,
   "id": "c5b7afee-4d3f-4185-8d3f-b18eba58ca38",
   "metadata": {},
   "outputs": [],
   "source": [
    "df['Label'].value_counts()"
   ]
  },
  {
   "cell_type": "code",
   "execution_count": null,
   "id": "a8bedfbb-3afb-4f4f-8bb8-652eb95cdb4e",
   "metadata": {},
   "outputs": [],
   "source": [
    "recacceptbtn = widgets.Button(\n",
    "    description='Accept',\n",
    "    disabled=False,\n",
    "    button_style='success', # 'success', 'info', 'warning', 'danger' or ''\n",
    "    tooltip='Click to accept',\n",
    "    icon='check-square'\n",
    ")\n",
    "def rec_check_update_runnext(evn):\n",
    "    # testing parameters\n",
    "    if recfile.value is not None and recprobe.value is not None:\n",
    "        # saving parameters\n",
    "        run_next(evn)\n",
    "    else:\n",
    "        display(Markdown('**You must select file and probe!**'))\n",
    "    \n",
    "recacceptbtn.on_click(rec_check_update_runnext)"
   ]
  }
 ],
 "metadata": {
  "kernelspec": {
   "display_name": "Python 3 (ipykernel)",
   "language": "python",
   "name": "python3"
  },
  "language_info": {
   "codemirror_mode": {
    "name": "ipython",
    "version": 3
   },
   "file_extension": ".py",
   "mimetype": "text/x-python",
   "name": "python",
   "nbconvert_exporter": "python",
   "pygments_lexer": "ipython3",
   "version": "3.10.9"
  }
 },
 "nbformat": 4,
 "nbformat_minor": 5
}

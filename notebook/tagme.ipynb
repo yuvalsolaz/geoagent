{
 "cells": [
  {
   "cell_type": "code",
   "execution_count": 8,
   "id": "885dc05c-6616-411e-9a6f-543f304de94c",
   "metadata": {},
   "outputs": [],
   "source": [
    "import pandas as pd\n",
    "import os\n",
    "from IPython.display import display, clear_output, HTML\n",
    "%matplotlib inline"
   ]
  },
  {
   "cell_type": "code",
   "execution_count": 9,
   "id": "8dc75c19-c6f0-41ee-b546-aacdc028479c",
   "metadata": {},
   "outputs": [],
   "source": [
    "\n",
    "def load_dataset(benchmark_file_name):\n",
    "    try:\n",
    "        df = pd.read_csv(benchmark_file_name)\n",
    "        print(f'{df.shape[0]} records loaded from {benchmark_file_name}')\n",
    "        return df.dropna(subset=['query'])\n",
    "    except Exception as ex:\n",
    "        print(f'error loading {benchmark_file_name}: {ex} ')\n",
    "        return None\n"
   ]
  },
  {
   "cell_type": "code",
   "execution_count": 10,
   "id": "59e3932f-89ac-443a-809f-8a0545102908",
   "metadata": {},
   "outputs": [],
   "source": [
    "benchmark_file_name=r'/home/yuvalso/repository/geoagent/data/change_events_queries_sql_map.csv'"
   ]
  },
  {
   "cell_type": "code",
   "execution_count": 11,
   "id": "456b9f32-6ddf-44ba-a5d5-2a875cef15b0",
   "metadata": {},
   "outputs": [
    {
     "name": "stdout",
     "output_type": "stream",
     "text": [
      "200 records loaded from /home/yuvalso/repository/geoagent/data/change_events_queries_sql_map_label.csv\n"
     ]
    }
   ],
   "source": [
    "output_file = benchmark_file_name.replace('.csv', '_label.csv')\n",
    "if os.path.exists(output_file):\n",
    "    df = load_dataset(benchmark_file_name=output_file)       \n",
    "else:    \n",
    "    df = load_dataset(benchmark_file_name=benchmark_file_name)\n",
    "    df[\"Label\"] = None # Add a new column for labels\n",
    "    "
   ]
  },
  {
   "cell_type": "code",
   "execution_count": 37,
   "id": "950a371a-7172-44d6-8ec9-884fc228d561",
   "metadata": {},
   "outputs": [],
   "source": [
    "\n",
    "def labeling(df):\n",
    "    print('start tagging')\n",
    "    for index, row in df.iterrows() :\n",
    "        if row[\"Label\"] in [\"true\", \"false\", \"na\"]:\n",
    "            continue\n",
    "        clear_output(wait=True)\n",
    "        print(f'query:{row[\"query\"]} label:{row[\"Label\"]}')\n",
    "        display(HTML(row['map']))\n",
    "        while True:\n",
    "            label = input(\"options: true, false, na (not applicable), sql (view the sql), exit (exit tagging) : \").strip().lower()\n",
    "            if label == 'exit':\n",
    "                clear_output(wait=True)                \n",
    "                print(f'exit tagging.')                   \n",
    "                return\n",
    "            if label == 'sql':\n",
    "                print(row['sql'])               \n",
    "            elif label in [\"true\", \"false\", \"na\"]:\n",
    "                df.at[index, \"Label\"] = label\n",
    "                save_results(df, output_file)               \n",
    "                break\n",
    "            else:\n",
    "                print(f\"{label} Invalid input. Please enter True or False.\")\n",
    "                            \n",
    "    clear_output(wait=True)\n",
    "    print(f'end tagging.')                   \n",
    "    save_results(df, output_file)  "
   ]
  },
  {
   "cell_type": "code",
   "execution_count": 38,
   "id": "17928caf-f38f-47a8-9af4-36ce3c2bfffe",
   "metadata": {},
   "outputs": [],
   "source": [
    "def save_results(df, output_file):   \n",
    "    df.to_csv(output_file, index=False)\n",
    "    print(f\"\\nLabeled CSV saved as {output_file}\")"
   ]
  },
  {
   "cell_type": "code",
   "execution_count": 39,
   "id": "ffc53bc9-3a0f-4b79-a7c4-e7a157f9d0ee",
   "metadata": {},
   "outputs": [
    {
     "name": "stdout",
     "output_type": "stream",
     "text": [
      "end tagging.\n",
      "\n",
      "Labeled CSV saved as /home/yuvalso/repository/geoagent/data/change_events_queries_sql_map_label.csv\n"
     ]
    }
   ],
   "source": [
    "labeling(df=df)"
   ]
  },
  {
   "cell_type": "code",
   "execution_count": null,
   "id": "4f0ed535-5f41-417b-8919-413202bdbfb6",
   "metadata": {},
   "outputs": [],
   "source": [
    "save_results(df=df, output_file=output_file)"
   ]
  },
  {
   "cell_type": "code",
   "execution_count": null,
   "id": "c5b7afee-4d3f-4185-8d3f-b18eba58ca38",
   "metadata": {},
   "outputs": [],
   "source": [
    "df['Label'].value_counts()"
   ]
  }
 ],
 "metadata": {
  "kernelspec": {
   "display_name": "Python 3 (ipykernel)",
   "language": "python",
   "name": "python3"
  },
  "language_info": {
   "codemirror_mode": {
    "name": "ipython",
    "version": 3
   },
   "file_extension": ".py",
   "mimetype": "text/x-python",
   "name": "python",
   "nbconvert_exporter": "python",
   "pygments_lexer": "ipython3",
   "version": "3.10.9"
  }
 },
 "nbformat": 4,
 "nbformat_minor": 5
}

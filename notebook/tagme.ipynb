{
 "cells": [
  {
   "cell_type": "code",
   "execution_count": 1,
   "id": "885dc05c-6616-411e-9a6f-543f304de94c",
   "metadata": {},
   "outputs": [],
   "source": [
    "import pandas as pd\n",
    "import os\n",
    "from IPython.display import display, clear_output, HTML\n",
    "%matplotlib inline"
   ]
  },
  {
   "cell_type": "code",
   "execution_count": 2,
   "id": "8dc75c19-c6f0-41ee-b546-aacdc028479c",
   "metadata": {},
   "outputs": [],
   "source": [
    "\n",
    "def load_dataset(benchmark_file_name):\n",
    "    try:\n",
    "        df = pd.read_csv(benchmark_file_name)\n",
    "        print(f'{df.shape[0]} records loaded from {benchmark_file_name}')\n",
    "        return df.dropna(subset=['query'])\n",
    "    except Exception as ex:\n",
    "        print(f'error loading {benchmark_file_name}: {ex} ')\n",
    "        return None\n"
   ]
  },
  {
   "cell_type": "code",
   "execution_count": 3,
   "id": "59e3932f-89ac-443a-809f-8a0545102908",
   "metadata": {},
   "outputs": [],
   "source": [
    "benchmark_file_name=r'/home/yuvalso/repository/geoagent/data/change_events_queries_sql_map.csv'"
   ]
  },
  {
   "cell_type": "code",
   "execution_count": 4,
   "id": "456b9f32-6ddf-44ba-a5d5-2a875cef15b0",
   "metadata": {},
   "outputs": [
    {
     "name": "stdout",
     "output_type": "stream",
     "text": [
      "200 records loaded from /home/yuvalso/repository/geoagent/data/change_events_queries_sql_map_label.csv\n"
     ]
    }
   ],
   "source": [
    "output_file = benchmark_file_name.replace('.csv', '_label.csv')\n",
    "if os.path.exists(output_file):\n",
    "    df = load_dataset(benchmark_file_name=output_file)       \n",
    "else:    \n",
    "    df = load_dataset(benchmark_file_name=benchmark_file_name)\n",
    "    df[\"Label\"] = None # Add a new column for labels\n"
   ]
  },
  {
   "cell_type": "code",
   "execution_count": 17,
   "id": "60371c6a",
   "metadata": {
    "collapsed": false,
    "jupyter": {
     "outputs_hidden": false
    },
    "pycharm": {
     "name": "#%%\n"
    }
   },
   "outputs": [
    {
     "data": {
      "text/plain": [
       "array(['Identify new residential areas developed in open spaces within 10 kilometers south of Aaddoussiyeh in June 2023.',\n",
       "       'What new highways are within 10 kilometers of Mahrouna?',\n",
       "       'What open areas in Jouaiya have been developed or converted into new built-up areas?',\n",
       "       'Identify new construction activity in open areas within 10 kilometers north of Debaal.',\n",
       "       'Identify new developments or transformations in open areas within Barish.',\n",
       "       'Are there new airports in Maaroub?',\n",
       "       'Identify changes in the road network in Maaroub.',\n",
       "       'What are the changes in land use around Tayr Falsay in open areas?',\n",
       "       'Give me new industrial areas developed in the southern part of Zrariyeh in July 2023.',\n",
       "       \"Identify new construction or changes in undeveloped areas near Insar within a radius of 5 kilometers, focusing on changes related to 'Residential', 'Industrial', or 'Other' classes, using distance relations and cardinal directions if applicable, in the last 6 months.\",\n",
       "       'Identify change detections based on changed class in open areas within a distance of 10 kilometers east of Insar over the past year.',\n",
       "       'What new developments have occurred in open areas around Babliyeh?',\n",
       "       'What industrial changes have occurred within 3 kilometers south of Zahrani Power Plant in the last 6 months?',\n",
       "       'What new highways have appeared within 5 kilometers north of Ayta Ash Shab?',\n",
       "       'What new industrial areas have appeared in the northern part of Mahrouna in the last 6 months?',\n",
       "       'What highway changes have occurred within 10 kilometers north of Debaal in the last 4 months?',\n",
       "       'Are there new highways in Maaroub?',\n",
       "       'Identify changes in land use or development patterns within the vicinity of Humayri, focusing on the emergence of new highways, airports, residential, or industrial areas, specifically noting developments in open areas where applicable.',\n",
       "       'What are the new residential areas developed in the southern part of Zrariyeh?',\n",
       "       'Identify changes in the residential area around Insar within the last 3 months.',\n",
       "       \"What changes have occurred in open areas near Senay over the last year in the 'Residential' class?\"],\n",
       "      dtype=object)"
      ]
     },
     "execution_count": 17,
     "metadata": {},
     "output_type": "execute_result"
    }
   ],
   "source": [
    "# df.style.set_properties(subset=['query'], **{'width-min': '300px'})\n",
    "pd.set_option('max_colwidth', 300)\n",
    "df.loc[:20,'query'].values"
   ]
  },
  {
   "cell_type": "code",
   "execution_count": 40,
   "id": "90e3f11e",
   "metadata": {
    "collapsed": false,
    "jupyter": {
     "outputs_hidden": false
    },
    "pycharm": {
     "name": "#%%\n"
    }
   },
   "outputs": [],
   "source": [
    "\n",
    "def labeling(df):\n",
    "    print('start tagging')\n",
    "    for index, row in df.iterrows() :\n",
    "        if row[\"Label\"] in [\"true\", \"false\", \"na\"]:\n",
    "            continue\n",
    "        clear_output(wait=True)\n",
    "        print(f'query:{row[\"query\"]} label:{row[\"Label\"]}')\n",
    "        display(HTML(row['map']))\n",
    "        while True:\n",
    "            label = input(\"options: true, false, na (not applicable), sql (view the sql), exit (exit tagging) : \").strip().lower()\n",
    "            if label == 'exit':\n",
    "                clear_output(wait=True)\n",
    "                print(f'exit tagging.')\n",
    "                return\n",
    "            if label == 'sql':\n",
    "                print(row['sql'])\n",
    "            elif label in [\"true\", \"false\", \"na\"]:\n",
    "                df.at[index, \"Label\"] = label\n",
    "                save_results(df, output_file)\n",
    "                break\n",
    "            else:\n",
    "                print(f\"{label} Invalid input. Please enter True or False.\")\n",
    "\n",
    "    clear_output(wait=True)\n",
    "    print(f'end tagging.')\n",
    "    save_results(df, output_file)"
   ]
  },
  {
   "cell_type": "code",
   "execution_count": 38,
   "id": "17928caf-f38f-47a8-9af4-36ce3c2bfffe",
   "metadata": {},
   "outputs": [],
   "source": [
    "def save_results(df, output_file):   \n",
    "    df.to_csv(output_file, index=False)\n",
    "    print(f\"\\nLabeled CSV saved as {output_file}\")"
   ]
  },
  {
   "cell_type": "code",
   "execution_count": 39,
   "id": "ffc53bc9-3a0f-4b79-a7c4-e7a157f9d0ee",
   "metadata": {},
   "outputs": [
    {
     "name": "stdout",
     "output_type": "stream",
     "text": [
      "end tagging.\n",
      "\n",
      "Labeled CSV saved as /home/yuvalso/repository/geoagent/data/change_events_queries_sql_map_label.csv\n"
     ]
    }
   ],
   "source": [
    "labeling(df=df)"
   ]
  },
  {
   "cell_type": "code",
   "execution_count": null,
   "id": "4f0ed535-5f41-417b-8919-413202bdbfb6",
   "metadata": {},
   "outputs": [],
   "source": [
    "save_results(df=df, output_file=output_file)"
   ]
  },
  {
   "cell_type": "code",
   "execution_count": null,
   "id": "c5b7afee-4d3f-4185-8d3f-b18eba58ca38",
   "metadata": {},
   "outputs": [],
   "source": [
    "df['Label'].value_counts()"
   ]
  }
 ],
 "metadata": {
  "kernelspec": {
   "display_name": "Python 3 (ipykernel)",
   "language": "python",
   "name": "python3"
  },
  "language_info": {
   "codemirror_mode": {
    "name": "ipython",
    "version": 3
   },
   "file_extension": ".py",
   "mimetype": "text/x-python",
   "name": "python",
   "nbconvert_exporter": "python",
   "pygments_lexer": "ipython3",
   "version": "3.10.9"
  }
 },
 "nbformat": 4,
 "nbformat_minor": 5
}